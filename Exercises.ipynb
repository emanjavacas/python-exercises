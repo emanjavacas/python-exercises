{
 "cells": [
  {
   "cell_type": "markdown",
   "metadata": {},
   "source": [
    "### Before you start\n",
    "\n",
    "Most exercises will involve defining functions.\n",
    "Pay attention to the exact wording of the question. \n",
    "Think about all parts involved in a function definition (don't forget about return statements nor function signature: the number of arguments passed onto a function).\n",
    "\n",
    "Usually, questions also include a sample usage of your code. You can read the exact function signature from the example.\n",
    "\n",
    "Question tagged as optional usually have more complex solutions, but you are still encouraged to try and ask for feedback in case you get stuck."
   ]
  },
  {
   "cell_type": "markdown",
   "metadata": {},
   "source": [
    "# Exercises"
   ]
  },
  {
   "cell_type": "markdown",
   "metadata": {},
   "source": [
    "1) Define a function `mult` that multiplies all items in a list. Usage:\n",
    "\n",
    "```python\n",
    "mult([1, 2, 3, 4])\n",
    ">>> 24\n",
    "```"
   ]
  },
  {
   "cell_type": "markdown",
   "metadata": {},
   "source": [
    "2) Define a function `reverse` that reverses a given string.\n",
    "\n",
    "```python\n",
    "reverse(\"redrum\")\n",
    ">>> \"murder\"\n",
    "```\n",
    "\n",
    "2.b) Define a function `palindrome` that takes a string and computes whether the input string is a palindrome or not.\n",
    "\n",
    "```python\n",
    "palindrome('radar')\n",
    ">>> True\n",
    "palindrome('asereje')\n",
    ">>> False\n",
    "```"
   ]
  },
  {
   "cell_type": "markdown",
   "metadata": {},
   "source": [
    "3) Define a function `randstr` that generates a random string of a given length. \n",
    "\n",
    "```python\n",
    "randstr(5)\n",
    ">>> \"haEfq\"\n",
    "```\n",
    "\n",
    "Note: You can get a collection of characters in the following way. You might also want to use `randint` from the built-in library `random`."
   ]
  },
  {
   "cell_type": "code",
   "execution_count": 4,
   "metadata": {},
   "outputs": [
    {
     "data": {
      "text/plain": [
       "'abcdefghijklmnopqrstuvwxyzABCDEFGHIJKLMNOPQRSTUVWXYZ'"
      ]
     },
     "execution_count": 4,
     "metadata": {},
     "output_type": "execute_result"
    }
   ],
   "source": [
    "import string\n",
    "\n",
    "string.ascii_letters"
   ]
  },
  {
   "cell_type": "markdown",
   "metadata": {},
   "source": [
    "4) Define a function `str_len` that returns the lengths of the strings in an input list\n",
    "\n",
    "```python\n",
    "str_len(['one', 'two', 'three'])\n",
    ">>> [3, 3, 5]\n",
    "```"
   ]
  },
  {
   "cell_type": "markdown",
   "metadata": {},
   "source": [
    "5) Define a function `longest_words` that returns the `n` longest words in decreasing order (assume random tie breaks: if two words are equally long, their respective order is not significant).\n",
    "\n",
    "```python\n",
    "longest_words(['one', 'two', 'three', 'four'], 2)\n",
    ">>> ['three', 'four']\n",
    "```"
   ]
  },
  {
   "cell_type": "markdown",
   "metadata": {},
   "source": [
    "6) Define two functions `char_freqs1` and `char_freqs2` that compute the frequencies of characters in an input string. The output should be a `dict` mapping from the character to its frequency. Both functions should always behave the same (same output for the same input), but they differ in that `char_freqs1` uses `Counter` from `collections` and `char_freqs2` doesn't.\n",
    "\n",
    "Import `Counter`:\n",
    "```python\n",
    "from collections import Counter\n",
    "```\n",
    "\n",
    "Sample usage:\n",
    "```python\n",
    "char_freqs1('aabbccddddd')\n",
    ">>> {'a': 2, 'b': 2, 'c': 2, 'd': 5}\n",
    "```"
   ]
  },
  {
   "cell_type": "markdown",
   "metadata": {},
   "source": [
    "7) Write a function `print_histogram` that takes a list of integers and prints them as a histogram to the screen. You might want to use a function local variable (e.g. `output = \"\"`) that is used to build the histogram by appending (e.g `output += '+++'` for the row and `output += '\\n'` for the line breaks. At the end you can just print that variable to get the answer.)\n",
    "\n",
    "```python\n",
    "print_histogram([4, 9, 7, 2, 16, 8, 3])\n",
    "\n",
    "++++\n",
    "+++++++++\n",
    "+++++++\n",
    "++\n",
    "++++++++++++++++\n",
    "++++++++\n",
    "+++\n",
    "```\n",
    "\n",
    "(Don't try to implement color printing)"
   ]
  },
  {
   "cell_type": "markdown",
   "metadata": {},
   "source": [
    "8) Modify the previous function so that it takes a dictionary instead of a list as input, uses the dictionary key as row label and the dictionary values as values for the histogram.\n",
    "\n",
    "Sample usage:\n",
    "\n",
    "```python\n",
    "print_histogram({'a': 4, 'b': 9, 'c': 7, 'd': 2, 'e': 16, 'f': 8, 'g': 3})\n",
    "\n",
    "a: ++++\n",
    "b: +++++++++\n",
    "c: +++++++\n",
    "d: ++\n",
    "e: ++++++++++++++++\n",
    "f: ++++++++\n",
    "g: +++\n",
    "```\n",
    "\n",
    "8.b (optional). Modify the function so that the histogram is printed vertically:\n",
    "\n",
    "```python\n",
    "print_histogram({'a': 4, 'b': 9, 'c': 7, 'd': 2, 'e': 16, 'f': 8, 'g': 3})\n",
    "\n",
    "    +  \n",
    "    +  \n",
    "    +  \n",
    "    +  \n",
    "    +  \n",
    "    +  \n",
    "    +  \n",
    " +  +  \n",
    " +  ++ \n",
    " ++ ++ \n",
    " ++ ++ \n",
    " ++ ++ \n",
    "+++ ++ \n",
    "+++ +++\n",
    "+++++++\n",
    "+++++++\n",
    "\n",
    "abcdefg\n",
    "\n",
    "```"
   ]
  },
  {
   "cell_type": "markdown",
   "metadata": {},
   "source": [
    "9.a) Implement `my_max`, a function that behaves as the built-in `max`.\n",
    "\n",
    "9.b) Implement `my_len`, a function that behaves as the built-in `len`.\n",
    "\n",
    "9.c) Implement `my_min`, a function that behaves as the built-in `min`."
   ]
  },
  {
   "cell_type": "markdown",
   "metadata": {},
   "source": [
    "10) For this question, I recommend you to go and learn about `zip`. Write a function `overlap` that computes whether two input lists have any item in common in the same position.\n",
    "\n",
    "```python\n",
    "overlap([1, 2, 3, 4, 5], [3, 4, 3])\n",
    ">>> True\n",
    "overlap([1, 2, 3, 4, 5], [3, 4, 2, 1])\n",
    ">>> False\n",
    "```\n",
    "\n",
    "10.b) Modify your function so that it returns the value of the first shared item if there is one.\n",
    "\n",
    "```python\n",
    "overlap([1, 2, 3, 4, 5], [3, 4, 3])\n",
    ">>> 3\n",
    "```\n",
    "\n",
    "10.c) Modify your function so that it returns the value of the longest shared sublist across two input lists (matches must be in the same position).\n",
    "\n",
    "```python\n",
    "overlap([1, 2, 3, 4, 5, 6], [0, 2, 2, 4, 5, 6, 1, 3])\n",
    ">>> [4, 5, 6]\n",
    "overlap([1, 2, 3], [2, 3, 4])\n",
    ">>> []\n",
    "```"
   ]
  },
  {
   "cell_type": "markdown",
   "metadata": {},
   "source": [
    "11) Define a function `ngrams` that takes a list `inp` and an integer `n` and returns a list of all ngrams of order n in the input. An n-gram is a sequence of coocurring items in an sequence. They are an essential representation in Computational Linguistics and you are very welcome to read about it online (https://en.wikipedia.org/wiki/N-gram)\n",
    "\n",
    "```python\n",
    "ngram(['The', 'brown', 'fox', 'jumped', 'over', 'the', 'lazy', 'dog'], 3)\n",
    ">>> \n",
    "[['The', 'brown', 'fox'],\n",
    " ['brown', 'fox', 'jumped'],\n",
    " ['fox', 'jumped', 'over'],\n",
    " ['jumped', 'over', 'the'],\n",
    " ['over', 'the', 'lazy'],\n",
    " ['the', 'lazy', 'dog']]\n",
    "```"
   ]
  },
  {
   "cell_type": "markdown",
   "metadata": {},
   "source": [
    "12) Define a function `grading` that implements the grading system to the left of the following image.\n",
    "<img src='img/grading.png'/>\n",
    "\n",
    "```python\n",
    "grading(65)\n",
    ">>> 'B'\n",
    "```\n",
    "\n",
    "12.b) Define a function `old2new` that takes an old version of a grade in its categorical form (e.g. 'A', 'B', etc...) and returns its corresponding new label (e.g. '1', '2', etc...)\n",
    "\n",
    "```python\n",
    "old2new('U')\n",
    "8\n",
    "```\n",
    "\n",
    "Pay attention to the fact that many old grades don't translate unambigously to the new system. For example, 'D' can correspond to the mark 40, which corresponds to the new grading of 7, but also to 46, which corresponds to the new grading of 6. Your task is to come up with and implement a reasonable heuristic (e.g. a heuristic that tries to avoid both grade inflation and deflation). Try to hardcode as less as possible of the solution (i.e: if your heuristic is \"assign an old grade to any new grade in the shared span of marks\", try to write code that does the random assignment every time, instead of hardcoding a random map).\n",
    "\n",
    "12.c) Modify your function `grading` such that it applies an input grading to an input mark. Assume the input grading is a dictionary mapping from grades (e.g. 'A', 'B', etc...) to length-2 tuples of floats designating a mark range.\n",
    "\n",
    "Example grading\n",
    "```python\n",
    "my_grading = {'A': (0.0, 10.0), 'B': (10.0, 20.0), ...}\n",
    "```\n",
    "\n",
    "Sample code:\n",
    "```python\n",
    "grading(5, my_grading)\n",
    ">>> 'A'\n",
    "```"
   ]
  },
  {
   "cell_type": "markdown",
   "metadata": {},
   "source": [
    "13) Write a function `fizzbuzz` that prints the numbers up to a given input value with the quirk that for multiples of three “Fizz” is printed instead of the number, for the multiples of five print “Buzz” instead of the number and, finally, for numbers which are multiples of both three and five “FizzBuzz” is printed.\n",
    "\n",
    "```python\n",
    "fizzbuzz(20)\n",
    "\n",
    "1\n",
    "2\n",
    "Fizz\n",
    "4\n",
    "Buzz\n",
    "Fizz\n",
    "7\n",
    "8\n",
    "Fizz\n",
    "Buzz\n",
    "11\n",
    "Fizz\n",
    "13\n",
    "14\n",
    "FizzBuzz\n",
    "16\n",
    "17\n",
    "Fizz\n",
    "19\n",
    "Buzz\n",
    "```"
   ]
  },
  {
   "cell_type": "markdown",
   "metadata": {},
   "source": [
    "14) 99 Bottles of Beer\" is a traditional song in the United States and Canada. It is popular to sing on long trips, as it has a very repetitive format which is easy to memorize, and can take a long time to sing. The song's simple lyrics are as follows: \"99 bottles of beer on the wall, 99 bottles of beer. Take one down, pass it around, 98 bottles of beer on the wall.\" The same verse is repeated, each time with one fewer bottle. The song is completed when the singer or singers reach zero. Your task here is write a Python function `beers99` with no input arguments capable of generating all the verses of the song. Use a counter integer variable and a while loop. Make sure that your loop will come to an end and that the inflection of the word bottle is adapted to the counter!"
   ]
  },
  {
   "cell_type": "markdown",
   "metadata": {},
   "source": [
    "15) The third person singular verb form in English is distinguished by the suffix -s, which is added to the stem of the infinitive form: run -> runs. A simple set of rules can be given as follows: \"If the verb ends in y, remove it and add ies. If the verb ends in o, ch, s, sh, x or z, add es. By default just add s.\" Your task in this exercise is to write a function `third_person`, which given a verb in infinitive form, prints its third person singular form. Test your function with words like \"try\", \"brush\", \"run\" and \"fix\". Can you think of verbs for which your code doesn't work? Check out the string method .endswith() online!"
   ]
  },
  {
   "cell_type": "markdown",
   "metadata": {},
   "source": [
    "16) ROT13 is a way to encode secret messages in cryptography. The name comes from Julius Caesar, who used it to communicate with his generals. ROT13 (\"rotate by 13 places\") is a widely used example of a Caesar cipher. The idea is to rotate or augment the position of each character in the alphabet with thirteen places. Your task in this exercise is to implement an encoder/decoder of ROT-13. For this, you will need to create a list containing each letter in the (lowercase) roman alphabet as well as the whitespace character. Next, you will have to create an encode_dict and a decode_dict. Once you're done, you will be able to read the following secret message: \"Pnrfne pvcure? V zhpu cersre Pnrfne fnynq!\" (Hint: you can use .index() to retrieve the position of an item in a list!)"
   ]
  }
 ],
 "metadata": {
  "kernelspec": {
   "display_name": "Python 3",
   "language": "python",
   "name": "python3"
  },
  "language_info": {
   "codemirror_mode": {
    "name": "ipython",
    "version": 3
   },
   "file_extension": ".py",
   "mimetype": "text/x-python",
   "name": "python",
   "nbconvert_exporter": "python",
   "pygments_lexer": "ipython3",
   "version": "3.6.1"
  }
 },
 "nbformat": 4,
 "nbformat_minor": 2
}
