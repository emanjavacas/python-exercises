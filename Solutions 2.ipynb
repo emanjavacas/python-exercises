{
 "cells": [
  {
   "cell_type": "code",
   "execution_count": 6,
   "metadata": {
    "collapsed": true
   },
   "outputs": [],
   "source": [
    "# Exercise 9.a\n",
    "\n",
    "def my_max(lst):\n",
    "    ans, *lst = lst\n",
    "    for n in lst:\n",
    "        if n > ans:\n",
    "            ans = n\n",
    "    return ans"
   ]
  },
  {
   "cell_type": "code",
   "execution_count": 7,
   "metadata": {
    "collapsed": true
   },
   "outputs": [],
   "source": [
    "# Exercise 9.b\n",
    "\n",
    "def my_len(lst):\n",
    "    return sum([1 for n in lst])"
   ]
  },
  {
   "cell_type": "code",
   "execution_count": 5,
   "metadata": {
    "collapsed": true
   },
   "outputs": [],
   "source": [
    "# Exercise 9.c\n",
    "\n",
    "def my_max(lst):\n",
    "    ans, *lst = lst\n",
    "    for n in lst:\n",
    "        if n < ans:\n",
    "            ans = n\n",
    "    return ans"
   ]
  },
  {
   "cell_type": "code",
   "execution_count": 12,
   "metadata": {},
   "outputs": [
    {
     "name": "stdout",
     "output_type": "stream",
     "text": [
      "True\n",
      "False\n"
     ]
    }
   ],
   "source": [
    "# Exercise 10.a\n",
    "\n",
    "def overlap(lst1, lst2):\n",
    "    \n",
    "    for i1, i2 in zip(lst1, lst2):\n",
    "        if i1 == i2:\n",
    "            return True\n",
    "    \n",
    "    return False\n",
    "\n",
    "print(overlap([1, 2, 3, 4, 5], [3, 4, 3])) # >>> True\n",
    "print(overlap([1, 2, 3, 4, 5], [3, 4, 2, 1])) # >>> False"
   ]
  },
  {
   "cell_type": "code",
   "execution_count": 10,
   "metadata": {
    "collapsed": true
   },
   "outputs": [],
   "source": [
    "# Exercise 10.b\n",
    "\n",
    "def overlap(lst1, lst2):\n",
    "    \n",
    "    for i1, i2 in zip(lst1, lst2):\n",
    "        if i1 == i2:\n",
    "            return i1\n",
    "        \n",
    "        \n",
    "overlap([1, 2, 3, 4, 5], [3, 4, 3]) # >>> 3\n"
   ]
  },
  {
   "cell_type": "code",
   "execution_count": 18,
   "metadata": {},
   "outputs": [
    {
     "data": {
      "text/plain": [
       "[3, 4]"
      ]
     },
     "execution_count": 18,
     "metadata": {},
     "output_type": "execute_result"
    }
   ],
   "source": [
    "# Exercise 10.b.2\n",
    "\n",
    "def overlap(lst1, lst2):\n",
    "    ans = []\n",
    "    flag = False\n",
    "    \n",
    "    for i1, i2 in zip(lst1, lst2):\n",
    "        if i1 == i2:\n",
    "            ans.append(i1)\n",
    "            flag = True\n",
    "        else:\n",
    "            if flag:\n",
    "                return ans\n",
    "            \n",
    "    return ans\n",
    "            \n",
    "\n",
    "overlap([1, 2, 3, 4, 5], [3, 4, 3, 4])  # >>> [3, 4]"
   ]
  },
  {
   "cell_type": "code",
   "execution_count": 16,
   "metadata": {},
   "outputs": [
    {
     "name": "stdout",
     "output_type": "stream",
     "text": [
      "[[2], [4, 5, 6]]\n",
      "[[]]\n"
     ]
    }
   ],
   "source": [
    "# Exercise 10.c\n",
    "\n",
    "# solution with flags\n",
    "\n",
    "def overlap(lst1, lst2):\n",
    "    ans = []\n",
    "    span = []\n",
    "    flag = False\n",
    "\n",
    "    for i1, i2 in zip(lst1, lst2):\n",
    "        if i1 == i2:\n",
    "            span.append(i1)\n",
    "            flag = True\n",
    "        else:\n",
    "            if flag:\n",
    "                ans.append(span)\n",
    "                span = []\n",
    "                flag = False\n",
    "    \n",
    "    ans.append(span)\n",
    "    \n",
    "    return ans\n",
    "    \n",
    "    return sorted(ans, reverse=True, key=len)[0]\n",
    "\n",
    "print(overlap([1, 2, 3, 4, 5, 6], [0, 2, 2, 4, 5, 6, 1, 3])) # >>> [[2], [4, 5, 6]]\n",
    "print(overlap([1, 2, 3], [2, 3, 4])) # >>> [[]]"
   ]
  },
  {
   "cell_type": "code",
   "execution_count": 17,
   "metadata": {},
   "outputs": [
    {
     "name": "stdout",
     "output_type": "stream",
     "text": [
      "[[2], [4, 5, 6]]\n",
      "[[]]\n"
     ]
    }
   ],
   "source": [
    "# Exercise 10.c\n",
    "\n",
    "# solution without flags\n",
    "\n",
    "def overlap(lst1, lst2):\n",
    "    span = []\n",
    "    output = []\n",
    "    \n",
    "    for x, y in zip(lst1, lst2):\n",
    "        if x == y:\n",
    "            span.append(x)\n",
    "        else:\n",
    "            if len(span) != 0:\n",
    "                output.append(span)\n",
    "                span = []\n",
    "                \n",
    "    output.append(span)\n",
    "    \n",
    "    return output\n",
    "\n",
    "print(overlap([1, 2, 3, 4, 5, 6], [0, 2, 2, 4, 5, 6, 1, 3])) # >>> [2], [4, 5, 6]]\n",
    "print(overlap([1, 2, 3], [2, 3, 4])) # >>> [[]]"
   ]
  },
  {
   "cell_type": "code",
   "execution_count": 31,
   "metadata": {},
   "outputs": [
    {
     "data": {
      "text/plain": [
       "[['The', 'brown', 'fox'],\n",
       " ['brown', 'fox', 'jumped'],\n",
       " ['fox', 'jumped', 'over'],\n",
       " ['jumped', 'over', 'the'],\n",
       " ['over', 'the', 'lazy'],\n",
       " ['the', 'lazy', 'dog']]"
      ]
     },
     "execution_count": 31,
     "metadata": {},
     "output_type": "execute_result"
    }
   ],
   "source": [
    "# Exercise 11\n",
    "\n",
    "def ngram(inp, n):\n",
    "    ans = []\n",
    "    for i in range(len(inp)):\n",
    "        if i + n > len(inp):\n",
    "            break\n",
    "        ans.append(inp[i:i+n])\n",
    "    return ans\n",
    "\n",
    "\n",
    "ngram(['The', 'brown', 'fox', 'jumped', 'over', 'the', 'lazy', 'dog'], 3)"
   ]
  },
  {
   "cell_type": "code",
   "execution_count": 18,
   "metadata": {},
   "outputs": [
    {
     "data": {
      "text/plain": [
       "'B'"
      ]
     },
     "execution_count": 18,
     "metadata": {},
     "output_type": "execute_result"
    }
   ],
   "source": [
    "# Exercise 12\n",
    "\n",
    "def grading(inp_score):\n",
    "    scheme = [('A+', 91), ('A', 75), ('B', 60), ('C', 50),\n",
    "              ('D', 35), ('E', 20), ('U', 0)]\n",
    "    \n",
    "    for grade, score in scheme:\n",
    "        if inp_score >= score:\n",
    "            return grade\n",
    "        \n",
    "\n",
    "grading(65) # >>> 'B'"
   ]
  },
 ],
 "metadata": {
  "kernelspec": {
   "display_name": "Python 3",
   "language": "python",
   "name": "python3"
  },
  "language_info": {
   "codemirror_mode": {
    "name": "ipython",
    "version": 3
   },
   "file_extension": ".py",
   "mimetype": "text/x-python",
   "name": "python",
   "nbconvert_exporter": "python",
   "pygments_lexer": "ipython3",
   "version": "3.6.1"
  }
 },
 "nbformat": 4,
 "nbformat_minor": 2
}
