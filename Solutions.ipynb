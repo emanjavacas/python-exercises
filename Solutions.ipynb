{
 "cells": [
  {
   "cell_type": "code",
   "execution_count": 2,
   "metadata": {},
   "outputs": [
    {
     "data": {
      "text/plain": [
       "24"
      ]
     },
     "execution_count": 2,
     "metadata": {},
     "output_type": "execute_result"
    }
   ],
   "source": [
    "# Exercise 1\n",
    "\n",
    "def mult(lst):\n",
    "    cnt = 1\n",
    "\n",
    "    for i in lst:\n",
    "        cnt *= i\n",
    "    return cnt\n",
    "\n",
    "\n",
    "mult([1, 2, 3, 4])  # >>> 24"
   ]
  },
  {
   "cell_type": "code",
   "execution_count": 4,
   "metadata": {},
   "outputs": [
    {
     "data": {
      "text/plain": [
       "'murder'"
      ]
     },
     "execution_count": 4,
     "metadata": {},
     "output_type": "execute_result"
    }
   ],
   "source": [
    "# Exercise 2.a.\n",
    "\n",
    "def reverse(s):\n",
    "    return s[::-1]\n",
    "\n",
    "reverse(\"redrum\")  # >>> 'murder'"
   ]
  },
  {
   "cell_type": "code",
   "execution_count": 9,
   "metadata": {},
   "outputs": [
    {
     "name": "stdout",
     "output_type": "stream",
     "text": [
      "True\n",
      "False\n"
     ]
    }
   ],
   "source": [
    "# Exercise 2.b.\n",
    "\n",
    "def palindrome(s):\n",
    "    rev = s[::-1]\n",
    "    if rev == s:\n",
    "        return True\n",
    "    else:\n",
    "        return False\n",
    "    \n",
    "def palindrome(s):\n",
    "    rev = reverse(s)\n",
    "    if rev == s:\n",
    "        return True\n",
    "    return False\n",
    "    \n",
    "def palindrome(s):\n",
    "    rev = reverse(s)\n",
    "    return rev == s\n",
    "\n",
    "print(palindrome('radar'))  # palindrome\n",
    "print(palindrome('asereje'))"
   ]
  },
  {
   "cell_type": "code",
   "execution_count": 75,
   "metadata": {},
   "outputs": [
    {
     "name": "stdout",
     "output_type": "stream",
     "text": [
      "efTKV\n"
     ]
    }
   ],
   "source": [
    "# Exercise 3\n",
    "\n",
    "from random import randint\n",
    "from string import ascii_letters\n",
    "\n",
    "\n",
    "def randstr(n):\n",
    "    s = ''\n",
    "    num_letters = len(ascii_letters)\n",
    "    \n",
    "    for _ in range(0, n):\n",
    "        idx = randint(0, num_letters-1)\n",
    "        s += ascii_letters[idx]\n",
    "\n",
    "    return s\n",
    "\n",
    "\n",
    "def randstr(n):\n",
    "    return ''.join([ascii_letters[randint(0, len(ascii_letters) - 1)]\n",
    "                    for _ in range(0, n)])\n",
    "\n",
    "\n",
    "print(randstr(5))"
   ]
  },
  {
   "cell_type": "code",
   "execution_count": 79,
   "metadata": {},
   "outputs": [
    {
     "data": {
      "text/plain": [
       "[3, 3, 5]"
      ]
     },
     "execution_count": 79,
     "metadata": {},
     "output_type": "execute_result"
    }
   ],
   "source": [
    "# Exercise 4\n",
    "\n",
    "def str_len(strings):\n",
    "    lengths = []\n",
    "    \n",
    "    for s in strings:\n",
    "        lengths.append(len(s))\n",
    "        \n",
    "    return lengths\n",
    "\n",
    "\n",
    "def str_len(strings):\n",
    "    return [len(s) for s in strings]\n",
    "\n",
    "        \n",
    "\n",
    "str_len(['one', 'two', 'three']) # >> [3, 3, 5]"
   ]
  },
  {
   "cell_type": "code",
   "execution_count": 96,
   "metadata": {},
   "outputs": [
    {
     "data": {
      "text/plain": [
       "['three', 'two']"
      ]
     },
     "execution_count": 96,
     "metadata": {},
     "output_type": "execute_result"
    }
   ],
   "source": [
    "# Exercise 5\n",
    "\n",
    "def longest_words(lst, n):\n",
    "    output = []\n",
    "    sorted_lst = sorted(lst, key=len, reverse=True)\n",
    "    \n",
    "    while n > 0:\n",
    "        output.append(sorted_lst.pop())\n",
    "        n -= 1\n",
    "        \n",
    "    return sorted_lst\n",
    "\n",
    "\n",
    "def longest_words(lst, n):\n",
    "    return sorted(lst, key=len, reverse=True)[:n]\n",
    "\n",
    "\n",
    "longest_words(['one', 'two', 'three', 'four'], 2) # >>> ['three', 'four']"
   ]
  },
  {
   "cell_type": "code",
   "execution_count": 89,
   "metadata": {},
   "outputs": [
    {
     "data": {
      "text/plain": [
       "['three', 'One', 'TWo']"
      ]
     },
     "execution_count": 89,
     "metadata": {},
     "output_type": "execute_result"
    }
   ],
   "source": [
    "# (Imprompu illustration of the optional arguments of sorted: key and reverse)\n",
    "\n",
    "a = ['One', 'TWo', 'three']\n",
    "sorted(a)\n",
    "\n",
    "def num_lower(s):\n",
    "    return sum([1 for char in s if char.islower()])\n",
    "\n",
    "num_lower('one')\n",
    "\n",
    "sorted(a, key=num_lower, reverse=True)"
   ]
  },
  {
   "cell_type": "code",
   "execution_count": 1,
   "metadata": {},
   "outputs": [
    {
     "data": {
      "text/plain": [
       "Counter({'a': 2, 'b': 2, 'c': 2, 'd': 5})"
      ]
     },
     "execution_count": 1,
     "metadata": {},
     "output_type": "execute_result"
    }
   ],
   "source": [
    "# Exercise 6\n",
    "from collections import Counter\n",
    "\n",
    "\n",
    "def char_freqs1(s):\n",
    "    return Counter(s)\n",
    "\n",
    "\n",
    "def char_freqs2(s):\n",
    "    cnt = {}\n",
    "    for char in s:\n",
    "        if s in cnt:\n",
    "            cnt[s] += 1\n",
    "        else:\n",
    "            cnt[s] = 1\n",
    "    return cnt\n",
    "\n",
    "\n",
    "char_freqs1('aabbccddddd')  # >>> {'a': 2, 'b': 2, 'c': 2, 'd': 5}"
   ]
  },
  {
   "cell_type": "code",
   "execution_count": 4,
   "metadata": {},
   "outputs": [
    {
     "name": "stdout",
     "output_type": "stream",
     "text": [
      "++++\n",
      "+++++++++\n",
      "+++++++\n",
      "++\n",
      "++++++++++++++++\n",
      "++++++++\n",
      "+++\n"
     ]
    }
   ],
   "source": [
    "# Exercise 7\n",
    "\n",
    "\n",
    "def print_histogram(counts, symbol='+'):\n",
    "    for row in counts:\n",
    "        print(symbol * row)\n",
    "\n",
    "\n",
    "def print_histogram(counts, symbol='+'):\n",
    "    output = ''\n",
    "    \n",
    "    for cnt in counts:\n",
    "        output += symbol * cnt\n",
    "        output += '\\n'\n",
    "        \n",
    "    print(output)\n",
    "    \n",
    "    \n",
    "def print_histogram(counts, symbol='+'):\n",
    "    print('\\n'.join([f'{symbol * cnt}' for cnt in counts]))\n",
    "\n",
    "\n",
    "print_histogram([4, 9, 7, 2, 16, 8, 3])\n",
    "\n",
    "# ++++\n",
    "# +++++++++\n",
    "# +++++++\n",
    "# ++\n",
    "# ++++++++++++++++\n",
    "# ++++++++\n",
    "# +++"
   ]
  },
  {
   "cell_type": "code",
   "execution_count": 7,
   "metadata": {},
   "outputs": [
    {
     "name": "stdout",
     "output_type": "stream",
     "text": [
      "a: ++++\n",
      "b: +++++++++\n",
      "c: +++++++\n",
      "d: ++\n",
      "e: ++++++++++++++++\n",
      "f: ++++++++\n",
      "g: +++\n",
      "\n"
     ]
    }
   ],
   "source": [
    "# Exercise 8.a\n",
    "\n",
    "def print_histogram(counts, symbol='+'):\n",
    "    output = ''\n",
    "    \n",
    "    for k, v in counts.items():\n",
    "        output += f'{k}: ' + symbol * v + '\\n'\n",
    "        \n",
    "    print(output)\n",
    "        \n",
    "\n",
    "print_histogram({'a': 4, 'b': 9, 'c': 7, 'd': 2, 'e': 16, 'f': 8, 'g': 3})"
   ]
  },
  {
   "cell_type": "code",
   "execution_count": 5,
   "metadata": {},
   "outputs": [
    {
     "name": "stdout",
     "output_type": "stream",
     "text": [
      "    +  \n",
      "    +  \n",
      "    +  \n",
      "    +  \n",
      "    +  \n",
      "    +  \n",
      "    +  \n",
      " +  +  \n",
      " +  ++ \n",
      " ++ ++ \n",
      " ++ ++ \n",
      " ++ ++ \n",
      "+++ ++ \n",
      "+++ +++\n",
      "+++++++\n",
      "+++++++\n",
      "\n",
      "abcdfeg\n"
     ]
    }
   ],
   "source": [
    "# Exercise 8.a.\n",
    "\n",
    "def print_histogram(counts, symbol='+'):\n",
    "    output = ''\n",
    "    maxrows = max(counts.values())\n",
    "    keys = list(counts.keys())\n",
    "    \n",
    "    for row in range(maxrows, 0, -1):\n",
    "\n",
    "        for k in keys:\n",
    "            v = counts[k]\n",
    "\n",
    "            if v >= row:\n",
    "                output += symbol\n",
    "            else:\n",
    "                output += ' '\n",
    "            \n",
    "        output += '\\n'\n",
    "    output += '\\n'\n",
    "\n",
    "    for k in keys:\n",
    "        output += k\n",
    "        \n",
    "    print(output)\n",
    "\n",
    "\n",
    "print_histogram({'a': 4, 'b': 9, 'c': 7, 'd': 2, 'f': 16, 'e': 8, 'g': 3})"
   ]
  },
  {
   "cell_type": "code",
   "execution_count": null,
   "metadata": {
    "collapsed": true
   },
   "outputs": [],
   "source": []
  }
 ],
 "metadata": {
  "kernelspec": {
   "display_name": "Python 3",
   "language": "python",
   "name": "python3"
  },
  "language_info": {
   "codemirror_mode": {
    "name": "ipython",
    "version": 3
   },
   "file_extension": ".py",
   "mimetype": "text/x-python",
   "name": "python",
   "nbconvert_exporter": "python",
   "pygments_lexer": "ipython3",
   "version": "3.6.1"
  }
 },
 "nbformat": 4,
 "nbformat_minor": 2
}
